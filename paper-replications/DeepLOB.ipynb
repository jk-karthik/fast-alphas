{
 "cells": [
  {
   "cell_type": "code",
   "execution_count": 41,
   "id": "ecda2383-fe88-4152-ac60-e083eb816c96",
   "metadata": {},
   "outputs": [],
   "source": [
    "import torch\n",
    "import torch.nn.functional as F\n",
    "from torch.utils import data\n",
    "from torchinfo import summary\n",
    "import torch.nn as nn\n",
    "import torch.optim as optim\n",
    "import sys\n",
    "import pandas as pd\n",
    "import pickle\n",
    "import numpy as np\n",
    "from tqdm import tqdm\n",
    "from datetime import datetime\n",
    "import copy\n",
    "import matplotlib.pyplot as plt\n",
    "from sklearn.metrics import accuracy_score, classification_report"
   ]
  },
  {
   "cell_type": "code",
   "execution_count": 42,
   "id": "206deae1-2f61-401a-8bd6-a2218603b4e0",
   "metadata": {},
   "outputs": [
    {
     "name": "stdout",
     "output_type": "stream",
     "text": [
      "macOS-14.6-arm64-arm-64bit\n"
     ]
    }
   ],
   "source": [
    "import platform; print(platform.platform())"
   ]
  },
  {
   "cell_type": "code",
   "execution_count": 43,
   "id": "6ed53499-555f-4bee-87f8-0793cfbe1020",
   "metadata": {},
   "outputs": [],
   "source": [
    "def prepare_x(data):\n",
    "    df1 = data[:40, :].T\n",
    "    return np.array(df1)\n",
    "\n",
    "def get_label(data):\n",
    "    lob = data[-5:, :].T\n",
    "    return lob\n",
    "\n",
    "def data_classification(X, Y, T):\n",
    "    [N, D] = X.shape\n",
    "    # print(X.shape,T,N,Y.shape)\n",
    "    df = np.array(X)\n",
    "    # print(df.shape)\n",
    "    dY = np.array(Y)\n",
    "\n",
    "    dataY = dY[T - 1:N]\n",
    "\n",
    "    dataX = np.zeros((N - T + 1, T, D))\n",
    "    for i in range(T, N + 1):\n",
    "        dataX[i - T] = df[i - T:i, :]\n",
    "\n",
    "    return dataX, dataY\n",
    "\n",
    "def torch_data(x, y):\n",
    "    x = torch.from_numpy(x)\n",
    "    x = torch.unsqueeze(x, 1)\n",
    "    y = torch.from_numpy(y)\n",
    "    y = F.one_hot(y, num_classes=3)\n",
    "    return x, y"
   ]
  },
  {
   "cell_type": "code",
   "execution_count": 44,
   "id": "89900fad-ad3e-4ccb-afb9-f6c1314ba66a",
   "metadata": {},
   "outputs": [],
   "source": [
    "class Dataset(data.Dataset):\n",
    "    \"\"\"Characterizes a dataset for PyTorch\"\"\"\n",
    "    def __init__(self, data, k, num_classes, T):\n",
    "        \"\"\"Initialization\"\"\" \n",
    "        self.k = k\n",
    "        self.num_classes = num_classes\n",
    "        self.T = T\n",
    "            \n",
    "        x = prepare_x(data)\n",
    "        y = get_label(data)\n",
    "        # print(x[:,0].mean(),np.median(x[:,0]),x[:,0].max(),x[:,0].min(),x.shape)\n",
    "        x, y = data_classification(x, y, self.T)\n",
    "        y = y[:,self.k] - 1\n",
    "        self.length = len(x)\n",
    "        print(np.unique(y))\n",
    "        x = torch.from_numpy(x)\n",
    "        self.x = torch.unsqueeze(x, 1)\n",
    "        self.y = torch.from_numpy(y)\n",
    "\n",
    "    def __len__(self):\n",
    "        \"\"\"Denotes the total number of samples\"\"\"\n",
    "        return self.length\n",
    "\n",
    "    def __getitem__(self, index):\n",
    "        \"\"\"Generates samples of data\"\"\"\n",
    "        return self.x[index], self.y[index]"
   ]
  },
  {
   "cell_type": "code",
   "execution_count": 45,
   "id": "559fb015-b20d-4ed1-834f-cbb06a18e895",
   "metadata": {},
   "outputs": [
    {
     "name": "stdout",
     "output_type": "stream",
     "text": [
      "tensor([1.], device='mps:0')\n"
     ]
    }
   ],
   "source": [
    "if torch.backends.mps.is_available():\n",
    "    mps_device = torch.device(\"mps\")\n",
    "    x = torch.ones(1, device=mps_device)\n",
    "    print (x)\n",
    "else:\n",
    "    print (\"MPS device not found.\")"
   ]
  },
  {
   "cell_type": "code",
   "execution_count": 46,
   "id": "249ad35c-0152-4f09-81bd-c2a0a2158957",
   "metadata": {},
   "outputs": [],
   "source": [
    "device = mps_device"
   ]
  },
  {
   "cell_type": "code",
   "execution_count": 47,
   "id": "9c08065a-79a3-42b1-8a31-bbc47e6c13bf",
   "metadata": {},
   "outputs": [
    {
     "data": {
      "text/plain": [
       "'torch.mps.FloatTensor'"
      ]
     },
     "execution_count": 47,
     "metadata": {},
     "output_type": "execute_result"
    }
   ],
   "source": [
    "x.type()"
   ]
  },
  {
   "cell_type": "code",
   "execution_count": 48,
   "id": "9cab5bae-6299-4fb7-8ae4-97af81f7bd9e",
   "metadata": {},
   "outputs": [
    {
     "name": "stdout",
     "output_type": "stream",
     "text": [
      "(149, 203800) (149, 50950) (149, 139587)\n"
     ]
    }
   ],
   "source": [
    "# please change the data_path to your local path\n",
    "# data_path = '/nfs/home/zihaoz/limit_order_book/data'\n",
    "\n",
    "dec_data = np.loadtxt('/Users/jandh/Downloads/data (1)/Train_Dst_NoAuction_DecPre_CF_7.txt')\n",
    "dec_train = dec_data[:, :int(np.floor(dec_data.shape[1] * 0.8))]\n",
    "dec_val = dec_data[:, int(np.floor(dec_data.shape[1] * 0.8)):]\n",
    "\n",
    "dec_test1 = np.loadtxt('/Users/jandh/Downloads/data (1)/Test_Dst_NoAuction_DecPre_CF_7.txt')\n",
    "dec_test2 = np.loadtxt('/Users/jandh/Downloads/data (1)/Test_Dst_NoAuction_DecPre_CF_8.txt')\n",
    "dec_test3 = np.loadtxt('/Users/jandh/Downloads/data (1)/Test_Dst_NoAuction_DecPre_CF_9.txt')\n",
    "dec_test = np.hstack((dec_test1, dec_test2, dec_test3))\n",
    "\n",
    "print(dec_train.shape, dec_val.shape, dec_test.shape)"
   ]
  },
  {
   "cell_type": "code",
   "execution_count": 49,
   "id": "843a0066-efb4-4a54-8b55-08a8e3fa1958",
   "metadata": {},
   "outputs": [
    {
     "data": {
      "text/plain": [
       "303.662128"
      ]
     },
     "execution_count": 49,
     "metadata": {},
     "output_type": "execute_result"
    }
   ],
   "source": [
    "sys.getsizeof(dec_data)/1000000"
   ]
  },
  {
   "cell_type": "code",
   "execution_count": 50,
   "id": "8cfec1e9-ddf8-43d2-8939-ee1360ebc763",
   "metadata": {},
   "outputs": [
    {
     "name": "stdout",
     "output_type": "stream",
     "text": [
      "[0. 1. 2.]\n",
      "[0. 1. 2.]\n",
      "[0. 1. 2.]\n",
      "torch.Size([203701, 1, 100, 40]) torch.Size([203701])\n"
     ]
    }
   ],
   "source": [
    "batch_size = 64\n",
    "\n",
    "dataset_train = Dataset(data=dec_train, k=4, num_classes=3, T=100)\n",
    "dataset_val = Dataset(data=dec_val, k=4, num_classes=3, T=100)\n",
    "dataset_test = Dataset(data=dec_test, k=4, num_classes=3, T=100)\n",
    "\n",
    "train_loader = torch.utils.data.DataLoader(dataset=dataset_train, batch_size=batch_size, shuffle=True)\n",
    "val_loader = torch.utils.data.DataLoader(dataset=dataset_val, batch_size=batch_size, shuffle=False)\n",
    "test_loader = torch.utils.data.DataLoader(dataset=dataset_test, batch_size=batch_size, shuffle=False)\n",
    "\n",
    "print(dataset_train.x.shape, dataset_train.y.shape)"
   ]
  },
  {
   "cell_type": "code",
   "execution_count": 51,
   "id": "efcac255-ffbc-40aa-acb9-f4af728a5ba1",
   "metadata": {},
   "outputs": [
    {
     "name": "stdout",
     "output_type": "stream",
     "text": [
      "tensor([[[[0.1290, 0.0188, 0.1288,  ..., 0.3265, 0.1279, 0.0115],\n",
      "          [0.1290, 0.0138, 0.1288,  ..., 0.3265, 0.1279, 0.0115],\n",
      "          [0.1290, 0.0138, 0.1288,  ..., 0.3265, 0.1279, 0.0115],\n",
      "          ...,\n",
      "          [0.1287, 0.0035, 0.1286,  ..., 0.0487, 0.1277, 0.0415],\n",
      "          [0.1287, 0.0035, 0.1286,  ..., 0.0487, 0.1277, 0.0415],\n",
      "          [0.1288, 0.0128, 0.1286,  ..., 0.0030, 0.1277, 0.0415]]]],\n",
      "       dtype=torch.float64)\n",
      "tensor([2.], dtype=torch.float64)\n",
      "torch.Size([1, 1, 100, 40]) torch.Size([1])\n"
     ]
    }
   ],
   "source": [
    "tmp_loader = torch.utils.data.DataLoader(dataset=dataset_train, batch_size=1, shuffle=True)\n",
    "\n",
    "for x, y in tmp_loader:\n",
    "    print(x)\n",
    "    print(y)\n",
    "    print(x.shape, y.shape)\n",
    "    break"
   ]
  },
  {
   "cell_type": "code",
   "execution_count": 12,
   "id": "6795703c-50c2-4ed3-81c5-d1de9ceb344f",
   "metadata": {},
   "outputs": [],
   "source": [
    "# #CPU version\n",
    "# class deeplob(nn.Module):\n",
    "#     def __init__(self, y_len):\n",
    "#         super().__init__()\n",
    "#         self.y_len = y_len\n",
    "        \n",
    "#         # convolution blocks\n",
    "#         self.conv1 = nn.Sequential(\n",
    "#             nn.Conv2d(in_channels=1, out_channels=32, kernel_size=(1,2), stride=(1,2)),\n",
    "#             nn.LeakyReLU(negative_slope=0.01),\n",
    "# #             nn.Tanh(),\n",
    "#             nn.BatchNorm2d(32),\n",
    "#             nn.Conv2d(in_channels=32, out_channels=32, kernel_size=(4,1)),\n",
    "#             nn.LeakyReLU(negative_slope=0.01),\n",
    "#             nn.BatchNorm2d(32),\n",
    "#             nn.Conv2d(in_channels=32, out_channels=32, kernel_size=(4,1)),\n",
    "#             nn.LeakyReLU(negative_slope=0.01),\n",
    "#             nn.BatchNorm2d(32),\n",
    "#         )\n",
    "#         self.conv2 = nn.Sequential(\n",
    "#             nn.Conv2d(in_channels=32, out_channels=32, kernel_size=(1,2), stride=(1,2)),\n",
    "#             nn.Tanh(),\n",
    "#             nn.BatchNorm2d(32),\n",
    "#             nn.Conv2d(in_channels=32, out_channels=32, kernel_size=(4,1)),\n",
    "#             nn.Tanh(),\n",
    "#             nn.BatchNorm2d(32),\n",
    "#             nn.Conv2d(in_channels=32, out_channels=32, kernel_size=(4,1)),\n",
    "#             nn.Tanh(),\n",
    "#             nn.BatchNorm2d(32),\n",
    "#         )\n",
    "#         self.conv3 = nn.Sequential(\n",
    "#             nn.Conv2d(in_channels=32, out_channels=32, kernel_size=(1,10)),\n",
    "#             nn.LeakyReLU(negative_slope=0.01),\n",
    "#             nn.BatchNorm2d(32),\n",
    "#             nn.Conv2d(in_channels=32, out_channels=32, kernel_size=(4,1)),\n",
    "#             nn.LeakyReLU(negative_slope=0.01),\n",
    "#             nn.BatchNorm2d(32),\n",
    "#             nn.Conv2d(in_channels=32, out_channels=32, kernel_size=(4,1)),\n",
    "#             nn.LeakyReLU(negative_slope=0.01),\n",
    "#             nn.BatchNorm2d(32),\n",
    "#         )\n",
    "        \n",
    "#         # inception moduels\n",
    "#         self.inp1 = nn.Sequential(\n",
    "#             nn.Conv2d(in_channels=32, out_channels=64, kernel_size=(1,1), padding='same'),\n",
    "#             nn.LeakyReLU(negative_slope=0.01),\n",
    "#             nn.BatchNorm2d(64),\n",
    "#             nn.Conv2d(in_channels=64, out_channels=64, kernel_size=(3,1), padding='same'),\n",
    "#             nn.LeakyReLU(negative_slope=0.01),\n",
    "#             nn.BatchNorm2d(64),\n",
    "#         )\n",
    "#         self.inp2 = nn.Sequential(\n",
    "#             nn.Conv2d(in_channels=32, out_channels=64, kernel_size=(1,1), padding='same'),\n",
    "#             nn.LeakyReLU(negative_slope=0.01),\n",
    "#             nn.BatchNorm2d(64),\n",
    "#             nn.Conv2d(in_channels=64, out_channels=64, kernel_size=(5,1), padding='same'),\n",
    "#             nn.LeakyReLU(negative_slope=0.01),\n",
    "#             nn.BatchNorm2d(64),\n",
    "#         )\n",
    "#         self.inp3 = nn.Sequential(\n",
    "#             nn.MaxPool2d((3, 1), stride=(1, 1), padding=(1, 0)),\n",
    "#             nn.Conv2d(in_channels=32, out_channels=64, kernel_size=(1,1), padding='same'),\n",
    "#             nn.LeakyReLU(negative_slope=0.01),\n",
    "#             nn.BatchNorm2d(64),\n",
    "#         )\n",
    "        \n",
    "#         # lstm layers\n",
    "#         self.lstm = nn.LSTM(input_size=192, hidden_size=64, num_layers=1, batch_first=True)\n",
    "#         self.fc1 = nn.Linear(64, self.y_len)\n",
    "\n",
    "#     def forward(self, x):\n",
    "#         # h0: (number of hidden layers, batch size, hidden size)\n",
    "#         h0 = torch.zeros(1, x.size(0), 64).to(device)\n",
    "#         c0 = torch.zeros(1, x.size(0), 64).to(device)\n",
    "    \n",
    "#         x = self.conv1(x)\n",
    "#         x = self.conv2(x)\n",
    "#         x = self.conv3(x)\n",
    "        \n",
    "#         x_inp1 = self.inp1(x)\n",
    "#         x_inp2 = self.inp2(x)\n",
    "#         x_inp3 = self.inp3(x)  \n",
    "        \n",
    "#         x = torch.cat((x_inp1, x_inp2, x_inp3), dim=1)\n",
    "        \n",
    "# #         x = torch.transpose(x, 1, 2)\n",
    "#         x = x.permute(0, 2, 1, 3)\n",
    "#         x = torch.reshape(x, (-1, x.shape[1], x.shape[2]))\n",
    "        \n",
    "#         x, _ = self.lstm(x, (h0, c0))\n",
    "#         x = x[:, -1, :]\n",
    "#         x = self.fc1(x)\n",
    "#         forecast_y = torch.softmax(x, dim=1)\n",
    "        \n",
    "#         return forecast_y"
   ]
  },
  {
   "cell_type": "code",
   "execution_count": 8,
   "id": "9d1d2d82-7239-4a69-bc8b-8377b4625b28",
   "metadata": {},
   "outputs": [],
   "source": [
    "class deeplob(nn.Module):\n",
    "    def __init__(self, y_len):\n",
    "        super().__init__()\n",
    "        self.y_len = y_len\n",
    "        \n",
    "        # convolution blocks\n",
    "        self.conv1 = nn.Sequential(\n",
    "            nn.Conv2d(in_channels=1, out_channels=32, kernel_size=(1,2), stride=(1,2)),\n",
    "            nn.LeakyReLU(negative_slope=0.01),\n",
    "#             nn.Tanh(),\n",
    "            nn.BatchNorm2d(32),\n",
    "            nn.Conv2d(in_channels=32, out_channels=32, kernel_size=(4,1)),\n",
    "            nn.LeakyReLU(negative_slope=0.01),\n",
    "            nn.BatchNorm2d(32),\n",
    "            nn.Conv2d(in_channels=32, out_channels=32, kernel_size=(4,1)),\n",
    "            nn.LeakyReLU(negative_slope=0.01),\n",
    "            nn.BatchNorm2d(32),\n",
    "        )\n",
    "        self.conv2 = nn.Sequential(\n",
    "            nn.Conv2d(in_channels=32, out_channels=32, kernel_size=(1,2), stride=(1,2)),\n",
    "            nn.Tanh(),\n",
    "            nn.BatchNorm2d(32),\n",
    "            nn.Conv2d(in_channels=32, out_channels=32, kernel_size=(4,1)),\n",
    "            nn.Tanh(),\n",
    "            nn.BatchNorm2d(32),\n",
    "            nn.Conv2d(in_channels=32, out_channels=32, kernel_size=(4,1)),\n",
    "            nn.Tanh(),\n",
    "            nn.BatchNorm2d(32),\n",
    "        )\n",
    "        self.conv3 = nn.Sequential(\n",
    "            nn.Conv2d(in_channels=32, out_channels=32, kernel_size=(1,10)),\n",
    "            nn.LeakyReLU(negative_slope=0.01),\n",
    "            nn.BatchNorm2d(32),\n",
    "            nn.Conv2d(in_channels=32, out_channels=32, kernel_size=(4,1)),\n",
    "            nn.LeakyReLU(negative_slope=0.01),\n",
    "            nn.BatchNorm2d(32),\n",
    "            nn.Conv2d(in_channels=32, out_channels=32, kernel_size=(4,1)),\n",
    "            nn.LeakyReLU(negative_slope=0.01),\n",
    "            nn.BatchNorm2d(32),\n",
    "        )\n",
    "        \n",
    "        # inception moduels\n",
    "        self.inp1 = nn.Sequential(\n",
    "            nn.Conv2d(in_channels=32, out_channels=64, kernel_size=(1,1), padding='same'),\n",
    "            nn.LeakyReLU(negative_slope=0.01),\n",
    "            nn.BatchNorm2d(64),\n",
    "            nn.Conv2d(in_channels=64, out_channels=64, kernel_size=(3,1), padding='same'),\n",
    "            nn.LeakyReLU(negative_slope=0.01),\n",
    "            nn.BatchNorm2d(64),\n",
    "        )\n",
    "        self.inp2 = nn.Sequential(\n",
    "            nn.Conv2d(in_channels=32, out_channels=64, kernel_size=(1,1), padding='same'),\n",
    "            nn.LeakyReLU(negative_slope=0.01),\n",
    "            nn.BatchNorm2d(64),\n",
    "            nn.Conv2d(in_channels=64, out_channels=64, kernel_size=(5,1), padding='same'),\n",
    "            nn.LeakyReLU(negative_slope=0.01),\n",
    "            nn.BatchNorm2d(64),\n",
    "        )\n",
    "        self.inp3 = nn.Sequential(\n",
    "            nn.MaxPool2d((3, 1), stride=(1, 1), padding=(1, 0)),\n",
    "            nn.Conv2d(in_channels=32, out_channels=64, kernel_size=(1,1), padding='same'),\n",
    "            nn.LeakyReLU(negative_slope=0.01),\n",
    "            nn.BatchNorm2d(64),\n",
    "        )\n",
    "        \n",
    "        # lstm layers\n",
    "        self.lstm = nn.LSTM(input_size=192, hidden_size=64, num_layers=1, batch_first=True)\n",
    "        self.fc1 = nn.Linear(64, self.y_len)\n",
    "\n",
    "    def forward(self, x):\n",
    "        # h0: (number of hidden layers, batch size, hidden size)\n",
    "        h0 = torch.zeros(1, x.size(0), 64).to(device)\n",
    "        c0 = torch.zeros(1, x.size(0), 64).to(device)\n",
    "    \n",
    "        x = self.conv1(x)\n",
    "        x = self.conv2(x)\n",
    "        x = self.conv3(x)\n",
    "        \n",
    "        x_inp1 = self.inp1(x)\n",
    "        x_inp2 = self.inp2(x)\n",
    "        x_inp3 = self.inp3(x)  \n",
    "        \n",
    "        x = torch.cat((x_inp1, x_inp2, x_inp3), dim=1)\n",
    "        \n",
    "#         x = torch.transpose(x, 1, 2)\n",
    "        x = x.permute(0, 2, 1, 3).contiguous()\n",
    "        x = torch.reshape(x, (-1, x.shape[1], x.shape[2]))\n",
    "        \n",
    "        x, _ = self.lstm(x, (h0, c0))\n",
    "        x = x[:, -1, :]\n",
    "        x = self.fc1(x)\n",
    "        forecast_y = torch.softmax(x, dim=1)\n",
    "        \n",
    "        return forecast_y"
   ]
  },
  {
   "cell_type": "code",
   "execution_count": 14,
   "id": "c58654e3-97b9-4e23-86fa-1bd53d4e5d57",
   "metadata": {},
   "outputs": [],
   "source": [
    "# # testing gradiant flows for CPU and GPU\n",
    "\n",
    "# model = deeplob(y_len = dataset_train.num_classes)\n",
    "# model2 = deeplob(y_len = dataset_train.num_classes)\n",
    "# model2.load_state_dict(model.state_dict())\n",
    "# # print(torch.allclose(model.weight, model2.weight))\n",
    "\n",
    "# criterion = nn.CrossEntropyLoss()\n",
    "# optimizer = torch.optim.Adam(model.parameters(), lr=0.0001)\n",
    "# optimizer2 = torch.optim.Adam(model2.parameters(), lr=0.0001)\n",
    "\n",
    "# data_iter = iter(train_loader)\n",
    "# inputs , targets = next(data_iter)\n",
    "# device = 'cpu'\n",
    "# # print(inputs)\n",
    "#  # = train_loader.next()\n",
    "# optimizer.zero_grad()\n",
    "# outputs = model(inputs.to(torch.float))\n",
    "# loss = criterion(outputs, targets.to(dtype=torch.int64))\n",
    "# print(loss)\n",
    "# loss.backward()\n",
    "# optimizer.step()\n",
    "\n",
    "# print(model.inp3[1].weight.grad.max())\n",
    "\n",
    "# for name, param in model.lstm.named_parameters():\n",
    "#     if 'weight' in name:\n",
    "#         print(name, param.grad.max()) \n",
    "\n",
    "# for name, param in model2.lstm.named_parameters():\n",
    "#     if 'weight' in name:\n",
    "#         print(name, param.grad.max()) \n",
    "\n",
    "# print(model2.inp3[1].weight.grad.max())\n",
    "\n",
    "# device = mps_device\n",
    "# model2.to(mps_device)\n",
    "# # inputs , targets = next(data_iter)\n",
    "# optimizer2.zero_grad()\n",
    "# outputs2 = model2(inputs.to(mps_device,dtype = torch.float32))\n",
    "# loss2 = criterion(outputs2, targets.to(mps_device,dtype=torch.int64))\n",
    "# print(loss2)\n",
    "# loss2.backward()\n",
    "# optimizer2.step()\n",
    "\n",
    "# def compare_models(model_1, model_2):\n",
    "#     models_differ = 0\n",
    "#     for key_item_1, key_item_2 in zip(model_1.state_dict().items(), model_2.state_dict().items()):\n",
    "#         if torch.equal(key_item_1[1], key_item_2[1]):\n",
    "#             pass\n",
    "#         else:\n",
    "#             models_differ += 1\n",
    "#             if (key_item_1[0] == key_item_2[0]):\n",
    "#                 print('Mismtach found at', key_item_1[0])\n",
    "#             else:\n",
    "#                 raise Exception\n",
    "#     if models_differ == 0:\n",
    "#         print('Models match perfectly! :)')"
   ]
  },
  {
   "cell_type": "code",
   "execution_count": 13,
   "id": "fd972476-5ae8-4a60-bf91-99f5b8a48aa7",
   "metadata": {},
   "outputs": [
    {
     "ename": "NameError",
     "evalue": "name 'deeplob' is not defined",
     "output_type": "error",
     "traceback": [
      "\u001b[0;31m---------------------------------------------------------------------------\u001b[0m",
      "\u001b[0;31mNameError\u001b[0m                                 Traceback (most recent call last)",
      "Cell \u001b[0;32mIn[13], line 1\u001b[0m\n\u001b[0;32m----> 1\u001b[0m model \u001b[38;5;241m=\u001b[39m deeplob(y_len \u001b[38;5;241m=\u001b[39m dataset_train\u001b[38;5;241m.\u001b[39mnum_classes)\n\u001b[1;32m      2\u001b[0m model\u001b[38;5;241m.\u001b[39mto(mps_device)\n\u001b[1;32m      3\u001b[0m device \u001b[38;5;241m=\u001b[39m mps_device\n",
      "\u001b[0;31mNameError\u001b[0m: name 'deeplob' is not defined"
     ]
    }
   ],
   "source": [
    "model = deeplob(y_len = dataset_train.num_classes)\n",
    "model.to(mps_device)\n",
    "device = mps_device"
   ]
  },
  {
   "cell_type": "code",
   "execution_count": 16,
   "id": "4e70c1c4-cadc-442b-aef7-0ef4043b7f02",
   "metadata": {},
   "outputs": [],
   "source": [
    "criterion = nn.CrossEntropyLoss()\n",
    "optimizer = torch.optim.Adam(model.parameters(), lr=0.0001)\n",
    "state_dict = None"
   ]
  },
  {
   "cell_type": "code",
   "execution_count": 17,
   "id": "02997c39-7b93-4139-917a-3bc6603b95a3",
   "metadata": {},
   "outputs": [],
   "source": [
    "def batch_gd(model, criterion, optimizer, train_loader, test_loader, epochs):\n",
    "    global state_dict\n",
    "    train_losses = np.zeros(epochs)\n",
    "    test_losses = np.zeros(epochs)\n",
    "    best_test_loss = np.inf\n",
    "    best_test_epoch = 0\n",
    "\n",
    "    for it in tqdm(range(epochs)):\n",
    "        \n",
    "        model.train()\n",
    "        t0 = datetime.now()\n",
    "        train_loss = []\n",
    "        for inputs, targets in train_loader:\n",
    "            # move data to GPU\n",
    "            inputs, targets = inputs.to(device, dtype=torch.float), targets.to(device, dtype=torch.int64)\n",
    "            # print(\"inputs.shape:\", inputs.shape)\n",
    "            # zero the parameter gradients\n",
    "            optimizer.zero_grad()\n",
    "            # Forward pass\n",
    "            # print(\"about to get model output\")\n",
    "            outputs = model(inputs)\n",
    "            # print(\"done getting model output\")\n",
    "            # print(\"outputs.shape:\", outputs.shape, \"targets.shape:\", targets.shape)\n",
    "            loss = criterion(outputs, targets)\n",
    "            # Backward and optimize\n",
    "            # print(\"about to optimize\")\n",
    "            loss.backward()\n",
    "            optimizer.step()\n",
    "            train_loss.append(loss.item())\n",
    "        # Get train loss and test loss\n",
    "        train_loss = np.mean(train_loss) # a little misleading\n",
    "    \n",
    "        model.eval()\n",
    "        test_loss = []\n",
    "        for inputs, targets in test_loader:\n",
    "            inputs, targets = inputs.to(device, dtype=torch.float), targets.to(device, dtype=torch.int64)      \n",
    "            outputs = model(inputs)\n",
    "            loss = criterion(outputs, targets)\n",
    "            test_loss.append(loss.item())\n",
    "        test_loss = np.mean(test_loss)\n",
    "\n",
    "        # Save losses\n",
    "        train_losses[it] = train_loss\n",
    "        test_losses[it] = test_loss\n",
    "        \n",
    "        if test_loss < best_test_loss:\n",
    "            # state_dict = copy.deepcopy(model.state_dict())\n",
    "            torch.save(model, '/Users/jandh/Desktop/Old Desktop/od/1 quater/Project Lab/best_val_model_pytorch')\n",
    "            best_test_loss = test_loss\n",
    "            best_test_epoch = it\n",
    "            print('model saved')\n",
    "\n",
    "        dt = datetime.now() - t0\n",
    "        print(dt)\n",
    "        print(f'Epoch {it+1}/{epochs}, Train Loss: {train_loss:.4f}, \\\n",
    "          Validation Loss: {test_loss:.4f}, Duration: {dt}, Best Val Epoch: {best_test_epoch}')\n",
    "\n",
    "    return train_losses, test_losses"
   ]
  },
  {
   "cell_type": "code",
   "execution_count": 18,
   "id": "c4f24214-10b5-4593-812c-98d51c562716",
   "metadata": {},
   "outputs": [],
   "source": [
    "# import multiprocessing\n",
    "# multiprocessing.set_start_method(\"fork\")"
   ]
  },
  {
   "cell_type": "code",
   "execution_count": 19,
   "id": "064c0899-fce7-4c0b-99d2-cda789fdc5e8",
   "metadata": {
    "scrolled": true
   },
   "outputs": [
    {
     "name": "stderr",
     "output_type": "stream",
     "text": [
      "  2%|▊                                        | 1/50 [02:21<1:55:42, 141.69s/it]"
     ]
    },
    {
     "name": "stdout",
     "output_type": "stream",
     "text": [
      "model saved\n",
      "0:02:21.690984\n",
      "Epoch 1/50, Train Loss: 0.9275,           Validation Loss: 1.0078, Duration: 0:02:21.690984, Best Val Epoch: 0\n"
     ]
    },
    {
     "name": "stderr",
     "output_type": "stream",
     "text": [
      "  4%|█▋                                       | 2/50 [05:48<2:23:46, 179.73s/it]"
     ]
    },
    {
     "name": "stdout",
     "output_type": "stream",
     "text": [
      "model saved\n",
      "0:03:26.351710\n",
      "Epoch 2/50, Train Loss: 0.8316,           Validation Loss: 0.9673, Duration: 0:03:26.351710, Best Val Epoch: 1\n"
     ]
    },
    {
     "name": "stderr",
     "output_type": "stream",
     "text": [
      "  6%|██▍                                      | 3/50 [09:06<2:27:30, 188.30s/it]"
     ]
    },
    {
     "name": "stdout",
     "output_type": "stream",
     "text": [
      "model saved\n",
      "0:03:18.499747\n",
      "Epoch 3/50, Train Loss: 0.7994,           Validation Loss: 0.9436, Duration: 0:03:18.499747, Best Val Epoch: 2\n"
     ]
    },
    {
     "name": "stderr",
     "output_type": "stream",
     "text": [
      "  8%|███▎                                     | 4/50 [12:34<2:30:22, 196.14s/it]"
     ]
    },
    {
     "name": "stdout",
     "output_type": "stream",
     "text": [
      "model saved\n",
      "0:03:28.155455\n",
      "Epoch 4/50, Train Loss: 0.7811,           Validation Loss: 0.9283, Duration: 0:03:28.155455, Best Val Epoch: 3\n"
     ]
    },
    {
     "name": "stderr",
     "output_type": "stream",
     "text": [
      " 10%|████                                     | 5/50 [16:23<2:36:03, 208.08s/it]"
     ]
    },
    {
     "name": "stdout",
     "output_type": "stream",
     "text": [
      "model saved\n",
      "0:03:49.241294\n",
      "Epoch 5/50, Train Loss: 0.7686,           Validation Loss: 0.9175, Duration: 0:03:49.241294, Best Val Epoch: 4\n"
     ]
    },
    {
     "name": "stderr",
     "output_type": "stream",
     "text": [
      " 12%|████▉                                    | 6/50 [20:18<2:39:06, 216.98s/it]"
     ]
    },
    {
     "name": "stdout",
     "output_type": "stream",
     "text": [
      "model saved\n",
      "0:03:54.247768\n",
      "Epoch 6/50, Train Loss: 0.7583,           Validation Loss: 0.9132, Duration: 0:03:54.247768, Best Val Epoch: 5\n"
     ]
    },
    {
     "name": "stderr",
     "output_type": "stream",
     "text": [
      " 14%|█████▋                                   | 7/50 [40:04<6:22:41, 534.00s/it]"
     ]
    },
    {
     "name": "stdout",
     "output_type": "stream",
     "text": [
      "model saved\n",
      "0:19:46.685416\n",
      "Epoch 7/50, Train Loss: 0.7496,           Validation Loss: 0.9059, Duration: 0:19:46.685416, Best Val Epoch: 6\n"
     ]
    },
    {
     "name": "stderr",
     "output_type": "stream",
     "text": [
      " 16%|██████                                | 8/50 [1:12:53<11:33:32, 990.78s/it]"
     ]
    },
    {
     "name": "stdout",
     "output_type": "stream",
     "text": [
      "0:32:48.827425\n",
      "Epoch 8/50, Train Loss: 0.7418,           Validation Loss: 0.9068, Duration: 0:32:48.827425, Best Val Epoch: 6\n"
     ]
    },
    {
     "name": "stderr",
     "output_type": "stream",
     "text": [
      " 18%|██████▋                              | 9/50 [1:30:58<11:37:04, 1020.11s/it]"
     ]
    },
    {
     "name": "stdout",
     "output_type": "stream",
     "text": [
      "0:18:04.607208\n",
      "Epoch 9/50, Train Loss: 0.7347,           Validation Loss: 0.9122, Duration: 0:18:04.607208, Best Val Epoch: 6\n"
     ]
    },
    {
     "name": "stderr",
     "output_type": "stream",
     "text": [
      " 20%|███████▏                            | 10/50 [1:49:31<11:39:09, 1048.75s/it]"
     ]
    },
    {
     "name": "stdout",
     "output_type": "stream",
     "text": [
      "0:18:32.868695\n",
      "Epoch 10/50, Train Loss: 0.7289,           Validation Loss: 0.9122, Duration: 0:18:32.868695, Best Val Epoch: 6\n"
     ]
    },
    {
     "name": "stderr",
     "output_type": "stream",
     "text": [
      " 22%|███████▉                            | 11/50 [2:27:58<15:32:03, 1433.94s/it]"
     ]
    },
    {
     "name": "stdout",
     "output_type": "stream",
     "text": [
      "0:38:27.345521\n",
      "Epoch 11/50, Train Loss: 0.7229,           Validation Loss: 0.9071, Duration: 0:38:27.345521, Best Val Epoch: 6\n"
     ]
    },
    {
     "name": "stderr",
     "output_type": "stream",
     "text": [
      " 24%|████████▋                           | 12/50 [3:03:24<17:21:31, 1644.50s/it]"
     ]
    },
    {
     "name": "stdout",
     "output_type": "stream",
     "text": [
      "model saved\n",
      "0:35:26.096480\n",
      "Epoch 12/50, Train Loss: 0.7187,           Validation Loss: 0.9055, Duration: 0:35:26.096480, Best Val Epoch: 11\n"
     ]
    },
    {
     "name": "stderr",
     "output_type": "stream",
     "text": [
      " 26%|█████████▎                          | 13/50 [3:12:00<13:23:20, 1302.71s/it]"
     ]
    },
    {
     "name": "stdout",
     "output_type": "stream",
     "text": [
      "0:08:36.231804\n",
      "Epoch 13/50, Train Loss: 0.7140,           Validation Loss: 0.9141, Duration: 0:08:36.231804, Best Val Epoch: 11\n"
     ]
    },
    {
     "name": "stderr",
     "output_type": "stream",
     "text": [
      " 28%|██████████                          | 14/50 [3:45:10<15:06:01, 1510.05s/it]"
     ]
    },
    {
     "name": "stdout",
     "output_type": "stream",
     "text": [
      "0:33:09.144797\n",
      "Epoch 14/50, Train Loss: 0.7096,           Validation Loss: 0.9064, Duration: 0:33:09.144797, Best Val Epoch: 11\n"
     ]
    },
    {
     "name": "stderr",
     "output_type": "stream",
     "text": [
      " 30%|██████████▊                         | 15/50 [4:11:33<14:53:51, 1532.33s/it]"
     ]
    },
    {
     "name": "stdout",
     "output_type": "stream",
     "text": [
      "0:26:23.959671\n",
      "Epoch 15/50, Train Loss: 0.7057,           Validation Loss: 0.9107, Duration: 0:26:23.959671, Best Val Epoch: 11\n"
     ]
    },
    {
     "name": "stderr",
     "output_type": "stream",
     "text": [
      " 32%|███████████▌                        | 16/50 [4:46:54<16:08:38, 1709.37s/it]"
     ]
    },
    {
     "name": "stdout",
     "output_type": "stream",
     "text": [
      "0:35:20.508877\n",
      "Epoch 16/50, Train Loss: 0.7026,           Validation Loss: 0.9111, Duration: 0:35:20.508877, Best Val Epoch: 11\n"
     ]
    },
    {
     "name": "stderr",
     "output_type": "stream",
     "text": [
      " 34%|████████████▏                       | 17/50 [5:05:38<14:03:22, 1533.42s/it]"
     ]
    },
    {
     "name": "stdout",
     "output_type": "stream",
     "text": [
      "0:18:44.244464\n",
      "Epoch 17/50, Train Loss: 0.6991,           Validation Loss: 0.9199, Duration: 0:18:44.244464, Best Val Epoch: 11\n"
     ]
    },
    {
     "name": "stderr",
     "output_type": "stream",
     "text": [
      " 36%|████████████▉                       | 18/50 [5:30:22<13:29:51, 1518.49s/it]"
     ]
    },
    {
     "name": "stdout",
     "output_type": "stream",
     "text": [
      "0:24:43.722550\n",
      "Epoch 18/50, Train Loss: 0.6960,           Validation Loss: 0.9121, Duration: 0:24:43.722550, Best Val Epoch: 11\n"
     ]
    },
    {
     "name": "stderr",
     "output_type": "stream",
     "text": [
      " 38%|█████████████▋                      | 19/50 [6:30:12<18:26:02, 2140.72s/it]"
     ]
    },
    {
     "name": "stdout",
     "output_type": "stream",
     "text": [
      "0:59:50.232588\n",
      "Epoch 19/50, Train Loss: 0.6941,           Validation Loss: 0.9104, Duration: 0:59:50.232588, Best Val Epoch: 11\n"
     ]
    },
    {
     "name": "stderr",
     "output_type": "stream",
     "text": [
      " 40%|██████████████▍                     | 20/50 [7:15:04<19:13:02, 2306.09s/it]"
     ]
    },
    {
     "name": "stdout",
     "output_type": "stream",
     "text": [
      "0:44:51.521763\n",
      "Epoch 20/50, Train Loss: 0.6906,           Validation Loss: 0.9104, Duration: 0:44:51.521763, Best Val Epoch: 11\n"
     ]
    },
    {
     "name": "stderr",
     "output_type": "stream",
     "text": [
      " 42%|███████████████                     | 21/50 [7:49:34<18:00:21, 2235.23s/it]"
     ]
    },
    {
     "name": "stdout",
     "output_type": "stream",
     "text": [
      "0:34:30.006216\n",
      "Epoch 21/50, Train Loss: 0.6891,           Validation Loss: 0.9209, Duration: 0:34:30.006216, Best Val Epoch: 11\n"
     ]
    },
    {
     "name": "stderr",
     "output_type": "stream",
     "text": [
      " 44%|███████████████▊                    | 22/50 [8:15:59<15:52:02, 2040.09s/it]"
     ]
    },
    {
     "name": "stdout",
     "output_type": "stream",
     "text": [
      "0:26:25.024193\n",
      "Epoch 22/50, Train Loss: 0.6869,           Validation Loss: 0.9125, Duration: 0:26:25.024193, Best Val Epoch: 11\n"
     ]
    },
    {
     "name": "stderr",
     "output_type": "stream",
     "text": [
      " 46%|████████████████▌                   | 23/50 [8:47:52<15:00:52, 2001.95s/it]"
     ]
    },
    {
     "name": "stdout",
     "output_type": "stream",
     "text": [
      "0:31:53.003818\n",
      "Epoch 23/50, Train Loss: 0.6844,           Validation Loss: 0.9143, Duration: 0:31:53.003818, Best Val Epoch: 11\n"
     ]
    },
    {
     "name": "stderr",
     "output_type": "stream",
     "text": [
      " 48%|█████████████████▎                  | 24/50 [8:49:51<10:22:43, 1437.05s/it]"
     ]
    },
    {
     "name": "stdout",
     "output_type": "stream",
     "text": [
      "0:01:59.305633\n",
      "Epoch 24/50, Train Loss: 0.6828,           Validation Loss: 0.9162, Duration: 0:01:59.305633, Best Val Epoch: 11\n"
     ]
    },
    {
     "name": "stderr",
     "output_type": "stream",
     "text": [
      " 50%|██████████████████▌                  | 25/50 [8:52:19<7:17:37, 1050.29s/it]"
     ]
    },
    {
     "name": "stdout",
     "output_type": "stream",
     "text": [
      "0:02:28.008038\n",
      "Epoch 25/50, Train Loss: 0.6802,           Validation Loss: 0.9272, Duration: 0:02:28.008038, Best Val Epoch: 11\n"
     ]
    },
    {
     "name": "stderr",
     "output_type": "stream",
     "text": [
      " 52%|███████████████████▊                  | 26/50 [8:55:21<5:15:53, 789.74s/it]"
     ]
    },
    {
     "name": "stdout",
     "output_type": "stream",
     "text": [
      "0:03:01.884429\n",
      "Epoch 26/50, Train Loss: 0.6790,           Validation Loss: 0.9168, Duration: 0:03:01.884429, Best Val Epoch: 11\n"
     ]
    },
    {
     "name": "stderr",
     "output_type": "stream",
     "text": [
      " 54%|████████████████████▌                 | 27/50 [8:58:31<3:53:48, 609.93s/it]"
     ]
    },
    {
     "name": "stdout",
     "output_type": "stream",
     "text": [
      "0:03:10.389775\n",
      "Epoch 27/50, Train Loss: 0.6775,           Validation Loss: 0.9250, Duration: 0:03:10.389775, Best Val Epoch: 11\n"
     ]
    },
    {
     "name": "stderr",
     "output_type": "stream",
     "text": [
      " 56%|█████████████████████▎                | 28/50 [9:01:39<2:57:10, 483.19s/it]"
     ]
    },
    {
     "name": "stdout",
     "output_type": "stream",
     "text": [
      "0:03:07.506017\n",
      "Epoch 28/50, Train Loss: 0.6756,           Validation Loss: 0.9178, Duration: 0:03:07.506017, Best Val Epoch: 11\n"
     ]
    },
    {
     "name": "stderr",
     "output_type": "stream",
     "text": [
      " 58%|██████████████████████                | 29/50 [9:04:50<2:18:27, 395.61s/it]"
     ]
    },
    {
     "name": "stdout",
     "output_type": "stream",
     "text": [
      "0:03:11.268407\n",
      "Epoch 29/50, Train Loss: 0.6732,           Validation Loss: 0.9183, Duration: 0:03:11.268407, Best Val Epoch: 11\n"
     ]
    },
    {
     "name": "stderr",
     "output_type": "stream",
     "text": [
      " 60%|██████████████████████▊               | 30/50 [9:08:05<1:51:45, 335.30s/it]"
     ]
    },
    {
     "name": "stdout",
     "output_type": "stream",
     "text": [
      "0:03:14.553216\n",
      "Epoch 30/50, Train Loss: 0.6722,           Validation Loss: 0.9198, Duration: 0:03:14.553216, Best Val Epoch: 11\n"
     ]
    },
    {
     "name": "stderr",
     "output_type": "stream",
     "text": [
      " 62%|███████████████████████▌              | 31/50 [9:11:35<1:34:19, 297.88s/it]"
     ]
    },
    {
     "name": "stdout",
     "output_type": "stream",
     "text": [
      "0:03:30.587206\n",
      "Epoch 31/50, Train Loss: 0.6712,           Validation Loss: 0.9214, Duration: 0:03:30.587206, Best Val Epoch: 11\n"
     ]
    },
    {
     "name": "stderr",
     "output_type": "stream",
     "text": [
      " 64%|████████████████████████▎             | 32/50 [9:15:13<1:22:07, 273.75s/it]"
     ]
    },
    {
     "name": "stdout",
     "output_type": "stream",
     "text": [
      "0:03:37.422006\n",
      "Epoch 32/50, Train Loss: 0.6701,           Validation Loss: 0.9238, Duration: 0:03:37.422006, Best Val Epoch: 11\n"
     ]
    },
    {
     "name": "stderr",
     "output_type": "stream",
     "text": [
      " 66%|█████████████████████████             | 33/50 [9:18:48<1:12:38, 256.35s/it]"
     ]
    },
    {
     "name": "stdout",
     "output_type": "stream",
     "text": [
      "0:03:35.770502\n",
      "Epoch 33/50, Train Loss: 0.6680,           Validation Loss: 0.9206, Duration: 0:03:35.770502, Best Val Epoch: 11\n"
     ]
    },
    {
     "name": "stderr",
     "output_type": "stream",
     "text": [
      " 68%|█████████████████████████▊            | 34/50 [9:22:09<1:03:55, 239.71s/it]"
     ]
    },
    {
     "name": "stdout",
     "output_type": "stream",
     "text": [
      "0:03:20.864819\n",
      "Epoch 34/50, Train Loss: 0.6666,           Validation Loss: 0.9162, Duration: 0:03:20.864819, Best Val Epoch: 11\n"
     ]
    },
    {
     "name": "stderr",
     "output_type": "stream",
     "text": [
      " 70%|████████████████████████████            | 35/50 [9:25:29<56:53, 227.58s/it]"
     ]
    },
    {
     "name": "stdout",
     "output_type": "stream",
     "text": [
      "0:03:19.289088\n",
      "Epoch 35/50, Train Loss: 0.6667,           Validation Loss: 0.9201, Duration: 0:03:19.289088, Best Val Epoch: 11\n"
     ]
    },
    {
     "name": "stderr",
     "output_type": "stream",
     "text": [
      " 72%|████████████████████████████▊           | 36/50 [9:28:50<51:15, 219.69s/it]"
     ]
    },
    {
     "name": "stdout",
     "output_type": "stream",
     "text": [
      "0:03:21.274789\n",
      "Epoch 36/50, Train Loss: 0.6647,           Validation Loss: 0.9210, Duration: 0:03:21.274789, Best Val Epoch: 11\n"
     ]
    },
    {
     "name": "stderr",
     "output_type": "stream",
     "text": [
      " 74%|█████████████████████████████▌          | 37/50 [9:32:11<46:21, 213.98s/it]"
     ]
    },
    {
     "name": "stdout",
     "output_type": "stream",
     "text": [
      "0:03:20.637919\n",
      "Epoch 37/50, Train Loss: 0.6638,           Validation Loss: 0.9209, Duration: 0:03:20.637919, Best Val Epoch: 11\n"
     ]
    },
    {
     "name": "stderr",
     "output_type": "stream",
     "text": [
      " 76%|██████████████████████████████▍         | 38/50 [9:35:32<42:03, 210.29s/it]"
     ]
    },
    {
     "name": "stdout",
     "output_type": "stream",
     "text": [
      "0:03:21.690577\n",
      "Epoch 38/50, Train Loss: 0.6622,           Validation Loss: 0.9222, Duration: 0:03:21.690577, Best Val Epoch: 11\n"
     ]
    },
    {
     "name": "stderr",
     "output_type": "stream",
     "text": [
      " 78%|███████████████████████████████▏        | 39/50 [9:38:58<38:19, 209.07s/it]"
     ]
    },
    {
     "name": "stdout",
     "output_type": "stream",
     "text": [
      "0:03:26.232447\n",
      "Epoch 39/50, Train Loss: 0.6613,           Validation Loss: 0.9258, Duration: 0:03:26.232447, Best Val Epoch: 11\n"
     ]
    },
    {
     "name": "stderr",
     "output_type": "stream",
     "text": [
      " 80%|████████████████████████████████        | 40/50 [9:42:21<34:32, 207.25s/it]"
     ]
    },
    {
     "name": "stdout",
     "output_type": "stream",
     "text": [
      "0:03:22.986045\n",
      "Epoch 40/50, Train Loss: 0.6604,           Validation Loss: 0.9231, Duration: 0:03:22.986045, Best Val Epoch: 11\n"
     ]
    },
    {
     "name": "stderr",
     "output_type": "stream",
     "text": [
      " 82%|████████████████████████████████▊       | 41/50 [9:45:44<30:51, 205.72s/it]"
     ]
    },
    {
     "name": "stdout",
     "output_type": "stream",
     "text": [
      "0:03:22.156574\n",
      "Epoch 41/50, Train Loss: 0.6597,           Validation Loss: 0.9179, Duration: 0:03:22.156574, Best Val Epoch: 11\n"
     ]
    },
    {
     "name": "stderr",
     "output_type": "stream",
     "text": [
      " 84%|█████████████████████████████████▌      | 42/50 [9:49:06<27:16, 204.62s/it]"
     ]
    },
    {
     "name": "stdout",
     "output_type": "stream",
     "text": [
      "0:03:22.050831\n",
      "Epoch 42/50, Train Loss: 0.6588,           Validation Loss: 0.9250, Duration: 0:03:22.050831, Best Val Epoch: 11\n"
     ]
    },
    {
     "name": "stderr",
     "output_type": "stream",
     "text": [
      " 86%|██████████████████████████████████▍     | 43/50 [9:52:42<24:17, 208.17s/it]"
     ]
    },
    {
     "name": "stdout",
     "output_type": "stream",
     "text": [
      "0:03:36.467662\n",
      "Epoch 43/50, Train Loss: 0.6580,           Validation Loss: 0.9219, Duration: 0:03:36.467662, Best Val Epoch: 11\n"
     ]
    },
    {
     "name": "stderr",
     "output_type": "stream",
     "text": [
      " 88%|███████████████████████████████████▏    | 44/50 [9:56:23<21:11, 211.95s/it]"
     ]
    },
    {
     "name": "stdout",
     "output_type": "stream",
     "text": [
      "0:03:40.767641\n",
      "Epoch 44/50, Train Loss: 0.6571,           Validation Loss: 0.9242, Duration: 0:03:40.767641, Best Val Epoch: 11\n"
     ]
    },
    {
     "name": "stderr",
     "output_type": "stream",
     "text": [
      " 90%|████████████████████████████████████    | 45/50 [9:59:46<17:26, 209.27s/it]"
     ]
    },
    {
     "name": "stdout",
     "output_type": "stream",
     "text": [
      "0:03:22.999976\n",
      "Epoch 45/50, Train Loss: 0.6567,           Validation Loss: 0.9223, Duration: 0:03:22.999976, Best Val Epoch: 11\n"
     ]
    },
    {
     "name": "stderr",
     "output_type": "stream",
     "text": [
      " 92%|███████████████████████████████████▉   | 46/50 [10:03:10<13:50, 207.67s/it]"
     ]
    },
    {
     "name": "stdout",
     "output_type": "stream",
     "text": [
      "0:03:23.955101\n",
      "Epoch 46/50, Train Loss: 0.6551,           Validation Loss: 0.9237, Duration: 0:03:23.955101, Best Val Epoch: 11\n"
     ]
    },
    {
     "name": "stderr",
     "output_type": "stream",
     "text": [
      " 94%|████████████████████████████████████▋  | 47/50 [10:06:42<10:26, 208.98s/it]"
     ]
    },
    {
     "name": "stdout",
     "output_type": "stream",
     "text": [
      "0:03:32.014281\n",
      "Epoch 47/50, Train Loss: 0.6550,           Validation Loss: 0.9248, Duration: 0:03:32.014281, Best Val Epoch: 11\n"
     ]
    },
    {
     "name": "stderr",
     "output_type": "stream",
     "text": [
      " 96%|█████████████████████████████████████▍ | 48/50 [10:10:26<07:07, 213.62s/it]"
     ]
    },
    {
     "name": "stdout",
     "output_type": "stream",
     "text": [
      "0:03:44.443801\n",
      "Epoch 48/50, Train Loss: 0.6542,           Validation Loss: 0.9283, Duration: 0:03:44.443801, Best Val Epoch: 11\n"
     ]
    },
    {
     "name": "stderr",
     "output_type": "stream",
     "text": [
      " 98%|██████████████████████████████████████▏| 49/50 [10:14:11<03:36, 216.99s/it]"
     ]
    },
    {
     "name": "stdout",
     "output_type": "stream",
     "text": [
      "0:03:44.861794\n",
      "Epoch 49/50, Train Loss: 0.6531,           Validation Loss: 0.9215, Duration: 0:03:44.861794, Best Val Epoch: 11\n"
     ]
    },
    {
     "name": "stderr",
     "output_type": "stream",
     "text": [
      "100%|███████████████████████████████████████| 50/50 [10:17:36<00:00, 741.12s/it]"
     ]
    },
    {
     "name": "stdout",
     "output_type": "stream",
     "text": [
      "0:03:24.524774\n",
      "Epoch 50/50, Train Loss: 0.6529,           Validation Loss: 0.9236, Duration: 0:03:24.524774, Best Val Epoch: 11\n"
     ]
    },
    {
     "name": "stderr",
     "output_type": "stream",
     "text": [
      "\n"
     ]
    }
   ],
   "source": [
    "train_losses, val_losses = batch_gd(model, criterion, optimizer, \n",
    "                                    train_loader, val_loader, epochs=50)"
   ]
  },
  {
   "cell_type": "code",
   "execution_count": 20,
   "id": "9f47a61d-797a-4e61-a021-6f2d937cb157",
   "metadata": {},
   "outputs": [
    {
     "name": "stdout",
     "output_type": "stream",
     "text": [
      "[0.92754553 0.83157098 0.7994026  0.78108138 0.76856464 0.75826246\n",
      " 0.74962036 0.74180985 0.734716   0.72889079 0.72285855 0.71870746\n",
      " 0.71396509 0.7096324  0.70574385 0.70256218 0.69905267 0.6959799\n",
      " 0.69410729 0.69056099 0.68910624 0.68687898 0.68443133 0.68280796\n",
      " 0.68018579 0.67900137 0.6775481  0.67562845 0.673156   0.67218286\n",
      " 0.67122931 0.67007577 0.66795675 0.66663803 0.66665017 0.66470385\n",
      " 0.66379603 0.66222505 0.66133476 0.66040887 0.65970554 0.65877602\n",
      " 0.65800051 0.65706162 0.65670245 0.6550968  0.65502462 0.65418764\n",
      " 0.65313373 0.65292982]\n"
     ]
    }
   ],
   "source": [
    "print(train_losses)"
   ]
  },
  {
   "cell_type": "code",
   "execution_count": 21,
   "id": "cbf7c6d3-c38b-4281-81aa-a9c38a148789",
   "metadata": {},
   "outputs": [],
   "source": [
    "# import pickle\n",
    "# with open('/Users/jandh/Desktop/Old Desktop/od/1 quater/Project Lab/train_losses.pkl', 'wb') as f:\n",
    "#     pickle.dump(train_losses, f)\n",
    "# with open('/Users/jandh/Desktop/Old Desktop/od/1 quater/Project Lab/val_losses.pkl', 'wb') as f:\n",
    "#     pickle.dump(val_losses, f)"
   ]
  },
  {
   "cell_type": "code",
   "execution_count": 22,
   "id": "a42d4ad7-d220-4bac-b43f-67b8fea8cd10",
   "metadata": {},
   "outputs": [
    {
     "data": {
      "text/plain": [
       "<matplotlib.legend.Legend at 0x62c09bd40>"
      ]
     },
     "execution_count": 22,
     "metadata": {},
     "output_type": "execute_result"
    },
    {
     "data": {
      "image/png": "[encoded data removed]",
      "text/plain": [
       "<Figure size 1500x600 with 1 Axes>"
      ]
     },
     "metadata": {},
     "output_type": "display_data"
    }
   ],
   "source": [
    "plt.figure(figsize=(15,6))\n",
    "plt.plot(train_losses, label='train loss')\n",
    "plt.plot(val_losses, label='validation loss')\n",
    "plt.legend()"
   ]
  },
  {
   "cell_type": "code",
   "execution_count": 23,
   "id": "12252f19-6681-4a16-8f71-c0276ca867bf",
   "metadata": {},
   "outputs": [],
   "source": [
    "# model = None"
   ]
  },
  {
   "cell_type": "markdown",
   "id": "7b3ea8e1-d83e-40d6-8c5f-5a3b17a17140",
   "metadata": {},
   "source": [
    "## Model_Testing"
   ]
  },
  {
   "cell_type": "code",
   "execution_count": 67,
   "id": "80b3fbfd-e6d1-4a71-a119-a572fb3be494",
   "metadata": {},
   "outputs": [
    {
     "name": "stdout",
     "output_type": "stream",
     "text": [
      "Test acc: 0.7230\n"
     ]
    }
   ],
   "source": [
    "# model = torch.load('/Users/jandh/Desktop/Old Desktop/od/1 quater/Project Lab/best_val_model_pytorch')\n",
    "\n",
    "n_correct = 0.\n",
    "n_total = 0.\n",
    "for inputs, targets in test_loader:\n",
    "    # Move to GPU\n",
    "    inputs, targets = inputs.to(device, dtype=torch.float), targets.to(device, dtype=torch.int64)\n",
    "\n",
    "    # Forward pass\n",
    "    outputs = model(inputs)\n",
    "    \n",
    "    # Get prediction\n",
    "    # torch.max returns both max and argmax\n",
    "    _, predictions = torch.max(outputs, 1)\n",
    "\n",
    "    # update counts\n",
    "    n_correct += (predictions == targets).sum().item()\n",
    "    n_total += targets.shape[0]\n",
    "\n",
    "test_acc = n_correct / n_total\n",
    "print(f\"Test acc: {test_acc:.4f}\")"
   ]
  },
  {
   "cell_type": "code",
   "execution_count": 25,
   "id": "7bbf95d9-a74c-45a4-b3ee-f00b22aa9458",
   "metadata": {},
   "outputs": [],
   "source": [
    "all_targets = []\n",
    "all_predictions = []\n",
    "\n",
    "for inputs, targets in test_loader:\n",
    "    # Move to GPU\n",
    "    inputs, targets = inputs.to(device, dtype=torch.float), targets.to(device, dtype=torch.int64)\n",
    "\n",
    "    # Forward pass\n",
    "    outputs = model(inputs)\n",
    "    \n",
    "    # Get prediction\n",
    "    # torch.max returns both max and argmax\n",
    "    _, predictions = torch.max(outputs, 1)\n",
    "\n",
    "    all_targets.append(targets.cpu().numpy())\n",
    "    all_predictions.append(predictions.cpu().numpy())\n",
    "\n",
    "all_targets = np.concatenate(all_targets)    \n",
    "all_predictions = np.concatenate(all_predictions)   "
   ]
  },
  {
   "cell_type": "code",
   "execution_count": 26,
   "id": "98898dc7-0d31-4a0d-b84b-dbda6a05b6e5",
   "metadata": {},
   "outputs": [
    {
     "name": "stdout",
     "output_type": "stream",
     "text": [
      "accuracy_score: 0.7230012617572837\n",
      "              precision    recall  f1-score   support\n",
      "\n",
      "           0     0.6983    0.7297    0.7136     47915\n",
      "           1     0.7975    0.7080    0.7501     48050\n",
      "           2     0.6815    0.7322    0.7060     43523\n",
      "\n",
      "    accuracy                         0.7230    139488\n",
      "   macro avg     0.7258    0.7233    0.7232    139488\n",
      "weighted avg     0.7272    0.7230    0.7238    139488\n",
      "\n"
     ]
    }
   ],
   "source": [
    "print('accuracy_score:', accuracy_score(all_targets, all_predictions))\n",
    "print(classification_report(all_targets, all_predictions, digits=4))"
   ]
  },
  {
   "cell_type": "code",
   "execution_count": 52,
   "id": "f75f5a63-e46a-4492-b85d-9210a6b64fe5",
   "metadata": {},
   "outputs": [],
   "source": [
    "# model = torch.load('/Users/jandh/Desktop/Old Desktop/od/1 quater/Project Lab/best_val_model_pytorch')"
   ]
  },
  {
   "cell_type": "code",
   "execution_count": null,
   "id": "6a773889-8240-43b5-b6ae-426583780f7b",
   "metadata": {},
   "outputs": [],
   "source": []
  }
 ],
 "metadata": {
  "kernelspec": {
   "display_name": "Python 3 (ipykernel)",
   "language": "python",
   "name": "python3"
  },
  "language_info": {
   "codemirror_mode": {
    "name": "ipython",
    "version": 3
   },
   "file_extension": ".py",
   "mimetype": "text/x-python",
   "name": "python",
   "nbconvert_exporter": "python",
   "pygments_lexer": "ipython3",
   "version": "3.12.2"
  }
 },
 "nbformat": 4,
 "nbformat_minor": 5
}
